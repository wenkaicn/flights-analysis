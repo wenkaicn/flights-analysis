{
 "cells": [
  {
   "cell_type": "code",
   "execution_count": 1,
   "metadata": {},
   "outputs": [],
   "source": [
    "import pandas as pd\n",
    "flights = pd.read_csv(\"flights.csv\",parse_dates=[0, 1])\n"
   ]
  },
  {
   "cell_type": "code",
   "execution_count": 2,
   "metadata": {},
   "outputs": [
    {
     "name": "stdout",
     "output_type": "stream",
     "text": [
      "           d0 d1 d2 d3 d4 d5 d6 d7 d8 d9\n",
      "2020-09-22  3  0  0  0  0  0  0  0  0  0\n",
      "2020-09-23  5  5  0  0  0  0  0  0  0  0\n",
      "2020-09-24  3  5  5  0  0  0  0  0  0  0\n",
      "2020-09-25  2  4  5  5  0  0  0  0  0  0\n",
      "2020-09-26  1  3  4  2  4  0  0  0  0  0\n",
      "2020-09-27  1  1  3  3  2  4  0  0  0  0\n",
      "2020-09-28  2  1  1  3  3  2  4  0  0  0\n",
      "2020-09-29  1  2  1  1  3  3  2  4  0  0\n",
      "2020-09-30  2  2  2  1  1  3  3  2  4  0\n",
      "2020-10-01  0  2  2  2  1  1  3  2  2  4\n",
      "2020-10-02  1  0  2  2  2  1  1  2  2  2\n",
      "2020-10-03  0  1  0  2  2  1  1  1  2  2\n",
      "2020-10-04  1  0  1  0  2  2  1  1  1  2\n",
      "2020-10-05  1  1  0  1  0  2  2  1  1  1\n",
      "2020-10-06  0  1  1  0  1  0  2  2  1  1\n",
      "2020-10-07  0  0  1  1  0  1  0  2  2  1\n",
      "2020-10-08  1  0  0  1  1  0  1  0  2  2\n",
      "2020-10-09  0  1  0  0  1  1  0  1  0  2\n",
      "2020-10-10  0  0  1  0  0  1  1  0  1  0\n",
      "2020-10-11  1  0  0  1  0  0  1  1  0  1\n",
      "2020-10-12  1  1  0  0  1  0  0  1  1  0\n",
      "2020-10-13  2  1  1  0  0  1  0  0  1  1\n",
      "2020-10-14  1  2  1  1  0  0  1  0  0  1\n",
      "2020-10-15  1  1  2  1  1  0  0  1  0  0\n",
      "2020-10-16  0  1  1  2  1  1  0  0  1  0\n",
      "2020-10-17  0  0  1  1  2  1  1  0  0  1\n",
      "2020-10-18  0  0  0  1  1  2  1  1  0  0\n",
      "2020-10-19  1  0  0  0  1  1  2  1  1  0\n",
      "2020-10-20  0  1  0  0  0  1  1  2  1  1\n",
      "2020-10-21  0  0  1  0  0  0  1  0  2  1\n",
      "2020-10-22  0  0  0  1  0  0  0  1  0  2\n",
      "2020-10-23  0  0  0  0  1  0  0  0  1  0\n",
      "2020-10-24  0  0  0  0  0  1  0  0  0  1\n",
      "2020-10-25  0  0  0  0  0  0  1  0  0  0\n",
      "2020-10-26  0  0  0  0  0  0  0  1  0  0\n",
      "2020-10-27  0  0  0  0  0  0  0  0  1  0\n",
      "2020-10-28  1  0  0  0  0  0  0  0  0  1\n",
      "2020-10-29  1  1  0  0  0  0  0  0  0  0\n",
      "2020-10-30  0  1  1  0  0  0  0  0  0  0\n",
      "2020-10-31  0  0  1  1  0  0  0  0  0  0\n",
      "2020-11-01  2  0  0  1  1  0  0  0  0  0\n",
      "2020-11-02  0  2  0  0  1  1  0  0  0  0\n",
      "2020-11-03  0  0  2  0  0  1  1  0  0  0\n",
      "2020-11-04  0  0  0  2  0  0  1  1  0  0\n",
      "2020-11-05  0  0  0  0  2  0  0  1  1  0\n",
      "2020-11-06  0  0  0  0  0  2  0  0  1  1\n",
      "2020-11-07  0  0  0  0  0  0  2  0  0  1\n",
      "2020-11-08  0  0  0  0  0  0  0  2  0  0\n",
      "2020-11-09  0  0  0  0  0  0  0  0  2  0\n",
      "2020-11-10  0  0  0  0  0  0  0  0  0  2\n",
      "2020-11-11  0  0  0  0  0  0  0  0  0  0\n",
      "2020-11-12  0  0  0  0  0  0  0  0  0  0\n",
      "2020-11-13  0  0  0  0  0  0  0  0  0  0\n",
      "2020-11-14  0  0  0  0  0  0  0  0  0  0\n"
     ]
    }
   ],
   "source": [
    "# 数据总览。展示某出发日期临近10天内的价格查询次数\n",
    "data_review = pd.DataFrame(columns=['d0','d1','d2','d3','d4','d5','d6','d7','d8','d9'] )\n",
    "\n",
    "d_day = flights.d_time.dt.date.drop_duplicates().sort_values()  # d_day是航班的日期序列\n",
    "for d in d_day.values:\n",
    "    flights_d = flights.loc[flights.d_time.dt.date == d]        # 在日期d出发的航班数据 flights_d\n",
    "    fetch_date = flights_d.fetch_time.dt.date.drop_duplicates() # 日期d航班的查询日期序列 fetch_date\n",
    "\n",
    "    # 填充S序列，日期d之前10天内每天爬取次数\n",
    "    S = pd.Series([0,0,0,0,0,0,0,0,0,0],index = ['d0','d1','d2','d3','d4','d5','d6','d7','d8','d9'])\n",
    "    for f in fetch_date.values:\n",
    "        diff = (d - f).days\n",
    "        if  diff<= 9:\n",
    "            flights_d_f =  flights_d.loc[flights_d.fetch_time.dt.date == f] #在日期f查询航班(日期d航班)的数据\n",
    "            S[diff] = flights_d_f.fetch_time.dt.hour.drop_duplicates().size #在日期f查询日期d航班的查询次数\n",
    "        else:\n",
    "            continue\n",
    "    # 将S添加到数据总览表中\n",
    "    S.name = d\n",
    "    data_review = data_review.append(S)\n",
    "\n",
    "print(data_review) # 9月25日~9月30日数据可用。由于漏采10月1日，10月1日和2日数据基本可用。其他价值不大。\n",
    "\n",
    "# DataFrame命名遵循的规则：名字与逐渐缩小的范围相对应。考虑一律大写？\n",
    "\n"
   ]
  },
  {
   "cell_type": "code",
   "execution_count": 5,
   "metadata": {},
   "outputs": [
    {
     "name": "stdout",
     "output_type": "stream",
     "text": [
      "       d0    d1    d2    d3    d4    d5    d6    d7    d8    d9       d_day  \\\n",
      "0    2210  2210  2210  2260     0     0     0     0     0     0  2020-09-25   \n",
      "1    2000  2000  1950  2000     0     0     0     0     0     0  2020-09-25   \n",
      "2    1690  1690  1690  1690     0     0     0     0     0     0  2020-09-25   \n",
      "3    2210  2210  2210  2260     0     0     0     0     0     0  2020-09-25   \n",
      "4    2210  2210  2210  2260     0     0     0     0     0     0  2020-09-25   \n",
      "..    ...   ...   ...   ...   ...   ...   ...   ...   ...   ...         ...   \n",
      "100  1690     0  1690  1710  1710  1040  1040   870   870   870  2020-10-02   \n",
      "101  1950     0  1880  2230  2230  1710  1710  1710  1240  1240  2020-10-02   \n",
      "102  1210     0  2210  2400  2400  1240  1240  1240  1240  1710  2020-10-02   \n",
      "103     0     0  1640  1710  1710  1240  1240  1240   870  1240  2020-10-02   \n",
      "104     0     0  2210  2400  2400  1240  1240  1240  1240  1240  2020-10-02   \n",
      "\n",
      "    flight_number d_hour craft_type  \n",
      "0          CZ6902     14      波音787  \n",
      "1          CZ6910     19      波音787  \n",
      "2          CZ6912     22      波音738  \n",
      "3          CZ6908     12      空客321  \n",
      "4          CZ6906     13      波音738  \n",
      "..            ...    ...        ...  \n",
      "100        CZ6912     22      波音738  \n",
      "101        CZ6904      9      波音787  \n",
      "102        CZ6908     12      空客320  \n",
      "103        CZ6931      7      空客321  \n",
      "104        CZ6906     13      波音738  \n",
      "\n",
      "[105 rows x 14 columns]\n"
     ]
    }
   ],
   "source": [
    "#flight_prices，记录目标航班的价格变化情况。同一天有多次价格采集，仅显示最低价。没有价格数据则为NULL\n",
    "flight_prices = pd.DataFrame(columns=['d0','d1','d2','d3','d4','d5','d6','d7','d8','d9','d_day','flight_number','d_hour','craft_type'])\n",
    "\n",
    "begin = datetime.date(2020,9,25)\n",
    "end = datetime.date(2020,10,2)\n",
    "for i in range((end-begin).days + 1):\n",
    "    d = begin + datetime.timedelta(days=i) \n",
    "    flights_d = flights.loc[flights.d_time.dt.date == d]   # 在日期d出发的航班数据 flights_oneday\n",
    "    flight_numbers = flights_d.flight_number.drop_duplicates() # 日期d的航班号序列\n",
    "\n",
    "    for n in flight_numbers.values:\n",
    "        flights_d_n = flights_d.loc[flights_d.flight_number == n]  # 日期d出发的航班n的数据\n",
    "        \n",
    "        #将查询日期相应票价填入序列。如果一天有多次查询则选取最低价\n",
    "        \n",
    "        S = pd.Series([0,0,0,0,0,0,0,0,0,0,d,n,flights_d_n.d_time.dt.hour.values[0],flights_d_n.craft_type.values[0]],index = ['d0','d1','d2','d3','d4','d5','d6','d7','d8','d9','d_day','flight_number','d_hour','craft_type'])\n",
    "        fetch_date = flights_d_n.fetch_time.dt.date.drop_duplicates() \n",
    "        for f in fetch_date.values:\n",
    "            diff = (d -f).days\n",
    "            if diff <=9:\n",
    "                S[diff] = flights_d_n.loc[flights_d_n.fetch_time.dt.date == f].price.min()  #某天f的价格查询序列中的最小值（最低票价）    \n",
    "            else:\n",
    "                continue\n",
    "        \n",
    "        #将序列加入flight_prices\n",
    "        flight_prices = flight_prices.append(S,ignore_index=True)\n",
    "\n",
    "print(flight_prices)\n",
    "\n",
    "\n",
    "    "
   ]
  },
  {
   "cell_type": "code",
   "execution_count": 7,
   "metadata": {},
   "outputs": [
    {
     "data": {
      "image/png": "[encoded data removed]",
      "text/plain": [
       "<Figure size 432x288 with 2 Axes>"
      ]
     },
     "metadata": {
      "needs_background": "light"
     },
     "output_type": "display_data"
    },
    {
     "data": {
      "image/png": "[encoded data removed]",
      "text/plain": [
       "<Figure size 432x288 with 2 Axes>"
      ]
     },
     "metadata": {
      "needs_background": "light"
     },
     "output_type": "display_data"
    },
    {
     "data": {
      "image/png": "[encoded data removed]",
      "text/plain": [
       "<Figure size 432x288 with 2 Axes>"
      ]
     },
     "metadata": {
      "needs_background": "light"
     },
     "output_type": "display_data"
    },
    {
     "data": {
      "image/png": "[encoded data removed]",
      "text/plain": [
       "<Figure size 432x288 with 2 Axes>"
      ]
     },
     "metadata": {
      "needs_background": "light"
     },
     "output_type": "display_data"
    }
   ],
   "source": [
    "#呈现DataFrame，将flight_number作为index，d0~d9作为columns\n",
    "\n",
    "import matplotlib.pyplot as plt\n",
    "plt.rcParams['font.sans-serif']=['SimHei'] #用来正常显示中文标签\n",
    "plt.rcParams['axes.unicode_minus']=False #用来正常显示负号\n",
    "\n",
    "import datetime\n",
    "begin = datetime.date(2020,9,29)\n",
    "end = datetime.date(2020,10,2)\n",
    "for i in range((end-begin).days + 1):\n",
    "    d = begin + datetime.timedelta(days=i) \n",
    "\n",
    "    df = flight_prices.loc[flight_prices.d_day == d]\n",
    "    df = df.loc[df.flight_number.apply(lambda x: 'CA' in x)]\n",
    "    df = df.sort_values(by='d_hour',ascending=True)\n",
    "    df = df.set_index(['craft_type'])\n",
    "    df = df.drop(labels= ['d_day','d_hour','flight_number'], axis = 1) \n",
    "\n",
    "    #print(df)\n",
    "    import seaborn as sns\n",
    "    import matplotlib.pyplot as plt\n",
    "    ax = plt.axes()\n",
    "    sns.heatmap(df.astype(float),ax=ax)  #heatmap需要df的数据为float类型\n",
    "    ax.set_title(str(d))\n",
    "    plt.show()"
   ]
  },
  {
   "cell_type": "code",
   "execution_count": null,
   "metadata": {},
   "outputs": [],
   "source": []
  }
 ],
 "metadata": {
  "kernelspec": {
   "display_name": "Python 3",
   "language": "python",
   "name": "python3"
  },
  "language_info": {
   "codemirror_mode": {
    "name": "ipython",
    "version": 3
   },
   "file_extension": ".py",
   "mimetype": "text/x-python",
   "name": "python",
   "nbconvert_exporter": "python",
   "pygments_lexer": "ipython3",
   "version": "3.8.3"
  }
 },
 "nbformat": 4,
 "nbformat_minor": 4
}
